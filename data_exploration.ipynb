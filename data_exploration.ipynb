{
 "cells": [
  {
   "cell_type": "code",
   "execution_count": 1,
   "id": "e997ad77",
   "metadata": {},
   "outputs": [],
   "source": [
    "import pandas as pd\n",
    "import json\n",
    "import matplotlib as plt\n",
    "import data_module as dm\n"
   ]
  },
  {
   "cell_type": "code",
   "execution_count": 2,
   "id": "93983635",
   "metadata": {},
   "outputs": [],
   "source": [
    "df = pd.read_csv('data/test_public.csv')"
   ]
  },
  {
   "cell_type": "markdown",
   "id": "31916490",
   "metadata": {},
   "source": [
    "***Clean up data***\n",
    "Remove examples missing data in polyline and figure out how many examples have NaNs"
   ]
  },
  {
   "cell_type": "code",
   "execution_count": 4,
   "id": "a836b731",
   "metadata": {},
   "outputs": [
    {
     "name": "stdout",
     "output_type": "stream",
     "text": [
      "10\n"
     ]
    }
   ],
   "source": [
    "print(len(df[df['MISSING_DATA'] == True]))"
   ]
  },
  {
   "cell_type": "code",
   "execution_count": 23,
   "id": "0dc18491",
   "metadata": {},
   "outputs": [
    {
     "name": "stdout",
     "output_type": "stream",
     "text": [
      "<bound method NDFrame.head of                      TRIP_ID CALL_TYPE  ORIGIN_CALL  ORIGIN_STAND  TAXI_ID  \\\n",
      "0        1372636858620000589         C          NaN           NaN        0   \n",
      "1        1372637303620000596         B          NaN           7.0        1   \n",
      "2        1372636951620000320         C          NaN           NaN        2   \n",
      "3        1372636854620000520         C          NaN           NaN        3   \n",
      "4        1372637091620000337         C          NaN           NaN        4   \n",
      "...                      ...       ...          ...           ...      ...   \n",
      "1710665  1404171463620000698         C          NaN           NaN      440   \n",
      "1710666  1404171367620000670         C          NaN           NaN      441   \n",
      "1710667  1388745716620000264         C          NaN           NaN      439   \n",
      "1710668  1404141826620000248         B          NaN          12.0      443   \n",
      "1710669  1404157147620000079         B          NaN          34.0      444   \n",
      "\n",
      "          TIMESTAMP DAY_TYPE  MISSING_DATA  \\\n",
      "0        1372636858        A         False   \n",
      "1        1372637303        A         False   \n",
      "2        1372636951        A         False   \n",
      "3        1372636854        A         False   \n",
      "4        1372637091        A         False   \n",
      "...             ...      ...           ...   \n",
      "1710665  1404171463        A         False   \n",
      "1710666  1404171367        A         False   \n",
      "1710667  1388745716        A         False   \n",
      "1710668  1404141826        A         False   \n",
      "1710669  1404157147        A         False   \n",
      "\n",
      "                                                  POLYLINE  TRAVEL_TIME  \n",
      "0        [[-8.618643,41.141412],[-8.618499,41.141376],[...          330  \n",
      "1        [[-8.639847,41.159826],[-8.640351,41.159871],[...          270  \n",
      "2        [[-8.612964,41.140359],[-8.613378,41.14035],[-...          960  \n",
      "3        [[-8.574678,41.151951],[-8.574705,41.151942],[...          630  \n",
      "4        [[-8.645994,41.18049],[-8.645949,41.180517],[-...          420  \n",
      "...                                                    ...          ...  \n",
      "1710665  [[-8.612469,41.14602],[-8.612487,41.145993],[-...          465  \n",
      "1710666  [[-8.610138,41.140845],[-8.610174,41.140935],[...          435  \n",
      "1710667                                                 []            0  \n",
      "1710668  [[-8.630712,41.154885],[-8.63073,41.154813],[-...          915  \n",
      "1710669  [[-8.615538,41.140629],[-8.615421,41.140746],[...          390  \n",
      "\n",
      "[1710660 rows x 10 columns]>\n",
      "0\n"
     ]
    }
   ],
   "source": [
    "df_tu = df_tu[df_tu['MISSING_DATA'] == False]\n",
    "print(df_tu.head)\n",
    "print(len(df_tu[df_tu['MISSING_DATA'] == True]))"
   ]
  },
  {
   "cell_type": "code",
   "execution_count": 12,
   "id": "3ddca37c",
   "metadata": {},
   "outputs": [
    {
     "name": "stdout",
     "output_type": "stream",
     "text": [
      "NaNs in column TRIP_ID 0\n",
      "NaNs in column CALL_TYPE 0\n",
      "NaNs in column ORIGIN_CALL 1345891\n",
      "NaNs in column ORIGIN_STAND 904084\n",
      "NaNs in column TAXI_ID 0\n",
      "NaNs in column TIMESTAMP 0\n",
      "NaNs in column DAY_TYPE 0\n",
      "NaNs in column MISSING_DATA 0\n",
      "NaNs in column POLYLINE 0\n",
      "NaNs in column LEN 0\n",
      "NaNs in column YR 0\n",
      "NaNs in column MON 0\n",
      "NaNs in column DAY 0\n",
      "NaNs in column HR 0\n",
      "NaNs in column WK 0\n"
     ]
    }
   ],
   "source": [
    "for col in df.columns:\n",
    "    print('NaNs in column %s %i' % (col, len(df[df[col].isna() == True])))"
   ]
  },
  {
   "cell_type": "markdown",
   "id": "42805498",
   "metadata": {},
   "source": [
    "Based on the above we probably will need to ignore the ORIGIN_CALL and ORIGIN_STAND columns most of their data is null."
   ]
  },
  {
   "cell_type": "code",
   "execution_count": 19,
   "id": "f36966ff",
   "metadata": {},
   "outputs": [
    {
     "ename": "KeyError",
     "evalue": "\"['ORIGIN_CALL', 'ORIGIN_STAND'] not found in axis\"",
     "output_type": "error",
     "traceback": [
      "\u001b[0;31m---------------------------------------------------------------------------\u001b[0m",
      "\u001b[0;31mKeyError\u001b[0m                                  Traceback (most recent call last)",
      "\u001b[0;32m/tmp/ipykernel_106/4028164062.py\u001b[0m in \u001b[0;36m<module>\u001b[0;34m\u001b[0m\n\u001b[0;32m----> 1\u001b[0;31m \u001b[0mdf\u001b[0m \u001b[0;34m=\u001b[0m \u001b[0mdf\u001b[0m\u001b[0;34m.\u001b[0m\u001b[0mdrop\u001b[0m\u001b[0;34m(\u001b[0m\u001b[0;34m[\u001b[0m\u001b[0;34m'ORIGIN_CALL'\u001b[0m\u001b[0;34m,\u001b[0m \u001b[0;34m'ORIGIN_STAND'\u001b[0m\u001b[0;34m,\u001b[0m \u001b[0;34m'MISSING_DATA'\u001b[0m\u001b[0;34m]\u001b[0m\u001b[0;34m,\u001b[0m \u001b[0maxis\u001b[0m\u001b[0;34m=\u001b[0m\u001b[0;36m1\u001b[0m\u001b[0;34m)\u001b[0m\u001b[0;34m\u001b[0m\u001b[0;34m\u001b[0m\u001b[0m\n\u001b[0m\u001b[1;32m      2\u001b[0m \u001b[0mprint\u001b[0m\u001b[0;34m(\u001b[0m\u001b[0mdf\u001b[0m\u001b[0;34m.\u001b[0m\u001b[0mcolumns\u001b[0m\u001b[0;34m)\u001b[0m\u001b[0;34m\u001b[0m\u001b[0;34m\u001b[0m\u001b[0m\n",
      "\u001b[0;32m/opt/conda/lib/python3.9/site-packages/pandas/util/_decorators.py\u001b[0m in \u001b[0;36mwrapper\u001b[0;34m(*args, **kwargs)\u001b[0m\n\u001b[1;32m    329\u001b[0m                     \u001b[0mstacklevel\u001b[0m\u001b[0;34m=\u001b[0m\u001b[0mfind_stack_level\u001b[0m\u001b[0;34m(\u001b[0m\u001b[0;34m)\u001b[0m\u001b[0;34m,\u001b[0m\u001b[0;34m\u001b[0m\u001b[0;34m\u001b[0m\u001b[0m\n\u001b[1;32m    330\u001b[0m                 )\n\u001b[0;32m--> 331\u001b[0;31m             \u001b[0;32mreturn\u001b[0m \u001b[0mfunc\u001b[0m\u001b[0;34m(\u001b[0m\u001b[0;34m*\u001b[0m\u001b[0margs\u001b[0m\u001b[0;34m,\u001b[0m \u001b[0;34m**\u001b[0m\u001b[0mkwargs\u001b[0m\u001b[0;34m)\u001b[0m\u001b[0;34m\u001b[0m\u001b[0;34m\u001b[0m\u001b[0m\n\u001b[0m\u001b[1;32m    332\u001b[0m \u001b[0;34m\u001b[0m\u001b[0m\n\u001b[1;32m    333\u001b[0m         \u001b[0;31m# error: \"Callable[[VarArg(Any), KwArg(Any)], Any]\" has no\u001b[0m\u001b[0;34m\u001b[0m\u001b[0;34m\u001b[0m\u001b[0;34m\u001b[0m\u001b[0m\n",
      "\u001b[0;32m/opt/conda/lib/python3.9/site-packages/pandas/core/frame.py\u001b[0m in \u001b[0;36mdrop\u001b[0;34m(self, labels, axis, index, columns, level, inplace, errors)\u001b[0m\n\u001b[1;32m   5397\u001b[0m                 \u001b[0mweight\u001b[0m  \u001b[0;36m1.0\u001b[0m     \u001b[0;36m0.8\u001b[0m\u001b[0;34m\u001b[0m\u001b[0;34m\u001b[0m\u001b[0m\n\u001b[1;32m   5398\u001b[0m         \"\"\"\n\u001b[0;32m-> 5399\u001b[0;31m         return super().drop(\n\u001b[0m\u001b[1;32m   5400\u001b[0m             \u001b[0mlabels\u001b[0m\u001b[0;34m=\u001b[0m\u001b[0mlabels\u001b[0m\u001b[0;34m,\u001b[0m\u001b[0;34m\u001b[0m\u001b[0;34m\u001b[0m\u001b[0m\n\u001b[1;32m   5401\u001b[0m             \u001b[0maxis\u001b[0m\u001b[0;34m=\u001b[0m\u001b[0maxis\u001b[0m\u001b[0;34m,\u001b[0m\u001b[0;34m\u001b[0m\u001b[0;34m\u001b[0m\u001b[0m\n",
      "\u001b[0;32m/opt/conda/lib/python3.9/site-packages/pandas/util/_decorators.py\u001b[0m in \u001b[0;36mwrapper\u001b[0;34m(*args, **kwargs)\u001b[0m\n\u001b[1;32m    329\u001b[0m                     \u001b[0mstacklevel\u001b[0m\u001b[0;34m=\u001b[0m\u001b[0mfind_stack_level\u001b[0m\u001b[0;34m(\u001b[0m\u001b[0;34m)\u001b[0m\u001b[0;34m,\u001b[0m\u001b[0;34m\u001b[0m\u001b[0;34m\u001b[0m\u001b[0m\n\u001b[1;32m    330\u001b[0m                 )\n\u001b[0;32m--> 331\u001b[0;31m             \u001b[0;32mreturn\u001b[0m \u001b[0mfunc\u001b[0m\u001b[0;34m(\u001b[0m\u001b[0;34m*\u001b[0m\u001b[0margs\u001b[0m\u001b[0;34m,\u001b[0m \u001b[0;34m**\u001b[0m\u001b[0mkwargs\u001b[0m\u001b[0;34m)\u001b[0m\u001b[0;34m\u001b[0m\u001b[0;34m\u001b[0m\u001b[0m\n\u001b[0m\u001b[1;32m    332\u001b[0m \u001b[0;34m\u001b[0m\u001b[0m\n\u001b[1;32m    333\u001b[0m         \u001b[0;31m# error: \"Callable[[VarArg(Any), KwArg(Any)], Any]\" has no\u001b[0m\u001b[0;34m\u001b[0m\u001b[0;34m\u001b[0m\u001b[0;34m\u001b[0m\u001b[0m\n",
      "\u001b[0;32m/opt/conda/lib/python3.9/site-packages/pandas/core/generic.py\u001b[0m in \u001b[0;36mdrop\u001b[0;34m(self, labels, axis, index, columns, level, inplace, errors)\u001b[0m\n\u001b[1;32m   4503\u001b[0m         \u001b[0;32mfor\u001b[0m \u001b[0maxis\u001b[0m\u001b[0;34m,\u001b[0m \u001b[0mlabels\u001b[0m \u001b[0;32min\u001b[0m \u001b[0maxes\u001b[0m\u001b[0;34m.\u001b[0m\u001b[0mitems\u001b[0m\u001b[0;34m(\u001b[0m\u001b[0;34m)\u001b[0m\u001b[0;34m:\u001b[0m\u001b[0;34m\u001b[0m\u001b[0;34m\u001b[0m\u001b[0m\n\u001b[1;32m   4504\u001b[0m             \u001b[0;32mif\u001b[0m \u001b[0mlabels\u001b[0m \u001b[0;32mis\u001b[0m \u001b[0;32mnot\u001b[0m \u001b[0;32mNone\u001b[0m\u001b[0;34m:\u001b[0m\u001b[0;34m\u001b[0m\u001b[0;34m\u001b[0m\u001b[0m\n\u001b[0;32m-> 4505\u001b[0;31m                 \u001b[0mobj\u001b[0m \u001b[0;34m=\u001b[0m \u001b[0mobj\u001b[0m\u001b[0;34m.\u001b[0m\u001b[0m_drop_axis\u001b[0m\u001b[0;34m(\u001b[0m\u001b[0mlabels\u001b[0m\u001b[0;34m,\u001b[0m \u001b[0maxis\u001b[0m\u001b[0;34m,\u001b[0m \u001b[0mlevel\u001b[0m\u001b[0;34m=\u001b[0m\u001b[0mlevel\u001b[0m\u001b[0;34m,\u001b[0m \u001b[0merrors\u001b[0m\u001b[0;34m=\u001b[0m\u001b[0merrors\u001b[0m\u001b[0;34m)\u001b[0m\u001b[0;34m\u001b[0m\u001b[0;34m\u001b[0m\u001b[0m\n\u001b[0m\u001b[1;32m   4506\u001b[0m \u001b[0;34m\u001b[0m\u001b[0m\n\u001b[1;32m   4507\u001b[0m         \u001b[0;32mif\u001b[0m \u001b[0minplace\u001b[0m\u001b[0;34m:\u001b[0m\u001b[0;34m\u001b[0m\u001b[0;34m\u001b[0m\u001b[0m\n",
      "\u001b[0;32m/opt/conda/lib/python3.9/site-packages/pandas/core/generic.py\u001b[0m in \u001b[0;36m_drop_axis\u001b[0;34m(self, labels, axis, level, errors, only_slice)\u001b[0m\n\u001b[1;32m   4544\u001b[0m                 \u001b[0mnew_axis\u001b[0m \u001b[0;34m=\u001b[0m \u001b[0maxis\u001b[0m\u001b[0;34m.\u001b[0m\u001b[0mdrop\u001b[0m\u001b[0;34m(\u001b[0m\u001b[0mlabels\u001b[0m\u001b[0;34m,\u001b[0m \u001b[0mlevel\u001b[0m\u001b[0;34m=\u001b[0m\u001b[0mlevel\u001b[0m\u001b[0;34m,\u001b[0m \u001b[0merrors\u001b[0m\u001b[0;34m=\u001b[0m\u001b[0merrors\u001b[0m\u001b[0;34m)\u001b[0m\u001b[0;34m\u001b[0m\u001b[0;34m\u001b[0m\u001b[0m\n\u001b[1;32m   4545\u001b[0m             \u001b[0;32melse\u001b[0m\u001b[0;34m:\u001b[0m\u001b[0;34m\u001b[0m\u001b[0;34m\u001b[0m\u001b[0m\n\u001b[0;32m-> 4546\u001b[0;31m                 \u001b[0mnew_axis\u001b[0m \u001b[0;34m=\u001b[0m \u001b[0maxis\u001b[0m\u001b[0;34m.\u001b[0m\u001b[0mdrop\u001b[0m\u001b[0;34m(\u001b[0m\u001b[0mlabels\u001b[0m\u001b[0;34m,\u001b[0m \u001b[0merrors\u001b[0m\u001b[0;34m=\u001b[0m\u001b[0merrors\u001b[0m\u001b[0;34m)\u001b[0m\u001b[0;34m\u001b[0m\u001b[0;34m\u001b[0m\u001b[0m\n\u001b[0m\u001b[1;32m   4547\u001b[0m             \u001b[0mindexer\u001b[0m \u001b[0;34m=\u001b[0m \u001b[0maxis\u001b[0m\u001b[0;34m.\u001b[0m\u001b[0mget_indexer\u001b[0m\u001b[0;34m(\u001b[0m\u001b[0mnew_axis\u001b[0m\u001b[0;34m)\u001b[0m\u001b[0;34m\u001b[0m\u001b[0;34m\u001b[0m\u001b[0m\n\u001b[1;32m   4548\u001b[0m \u001b[0;34m\u001b[0m\u001b[0m\n",
      "\u001b[0;32m/opt/conda/lib/python3.9/site-packages/pandas/core/indexes/base.py\u001b[0m in \u001b[0;36mdrop\u001b[0;34m(self, labels, errors)\u001b[0m\n\u001b[1;32m   6932\u001b[0m         \u001b[0;32mif\u001b[0m \u001b[0mmask\u001b[0m\u001b[0;34m.\u001b[0m\u001b[0many\u001b[0m\u001b[0;34m(\u001b[0m\u001b[0;34m)\u001b[0m\u001b[0;34m:\u001b[0m\u001b[0;34m\u001b[0m\u001b[0;34m\u001b[0m\u001b[0m\n\u001b[1;32m   6933\u001b[0m             \u001b[0;32mif\u001b[0m \u001b[0merrors\u001b[0m \u001b[0;34m!=\u001b[0m \u001b[0;34m\"ignore\"\u001b[0m\u001b[0;34m:\u001b[0m\u001b[0;34m\u001b[0m\u001b[0;34m\u001b[0m\u001b[0m\n\u001b[0;32m-> 6934\u001b[0;31m                 \u001b[0;32mraise\u001b[0m \u001b[0mKeyError\u001b[0m\u001b[0;34m(\u001b[0m\u001b[0;34mf\"{list(labels[mask])} not found in axis\"\u001b[0m\u001b[0;34m)\u001b[0m\u001b[0;34m\u001b[0m\u001b[0;34m\u001b[0m\u001b[0m\n\u001b[0m\u001b[1;32m   6935\u001b[0m             \u001b[0mindexer\u001b[0m \u001b[0;34m=\u001b[0m \u001b[0mindexer\u001b[0m\u001b[0;34m[\u001b[0m\u001b[0;34m~\u001b[0m\u001b[0mmask\u001b[0m\u001b[0;34m]\u001b[0m\u001b[0;34m\u001b[0m\u001b[0;34m\u001b[0m\u001b[0m\n\u001b[1;32m   6936\u001b[0m         \u001b[0;32mreturn\u001b[0m \u001b[0mself\u001b[0m\u001b[0;34m.\u001b[0m\u001b[0mdelete\u001b[0m\u001b[0;34m(\u001b[0m\u001b[0mindexer\u001b[0m\u001b[0;34m)\u001b[0m\u001b[0;34m\u001b[0m\u001b[0;34m\u001b[0m\u001b[0m\n",
      "\u001b[0;31mKeyError\u001b[0m: \"['ORIGIN_CALL', 'ORIGIN_STAND'] not found in axis\""
     ]
    }
   ],
   "source": [
    "df = df.drop(['ORIGIN_CALL', 'ORIGIN_STAND'], axis=1)\n",
    "print(df.columns)"
   ]
  },
  {
   "cell_type": "markdown",
   "id": "f0818814",
   "metadata": {},
   "source": [
    "We're left with the columns above. Now to see if there are any distinct correlations between columns and travel time. First we'll calculate travel time and add it to a new column. Travel time is calculated using len(POLYLINE[i]) - 1 * 15"
   ]
  },
  {
   "cell_type": "code",
   "execution_count": 10,
   "id": "8403d3a6",
   "metadata": {},
   "outputs": [],
   "source": [
    "def app(val):\n",
    "    return (len(json.loads(val)) - 1) * 15"
   ]
  },
  {
   "cell_type": "code",
   "execution_count": 12,
   "id": "b366a543",
   "metadata": {},
   "outputs": [],
   "source": [
    "df['TRAVEL_TIME'] = df['POLYLINE'].map(app)"
   ]
  },
  {
   "cell_type": "code",
   "execution_count": 10,
   "id": "4547c20f",
   "metadata": {},
   "outputs": [
    {
     "ename": "NameError",
     "evalue": "name 'df' is not defined",
     "output_type": "error",
     "traceback": [
      "\u001b[0;31m---------------------------------------------------------------------------\u001b[0m",
      "\u001b[0;31mNameError\u001b[0m                                 Traceback (most recent call last)",
      "\u001b[0;32m/tmp/ipykernel_1153/3289350417.py\u001b[0m in \u001b[0;36m<module>\u001b[0;34m\u001b[0m\n\u001b[0;32m----> 1\u001b[0;31m \u001b[0mdf\u001b[0m\u001b[0;34m.\u001b[0m\u001b[0mcolumns\u001b[0m\u001b[0;34m\u001b[0m\u001b[0;34m\u001b[0m\u001b[0m\n\u001b[0m",
      "\u001b[0;31mNameError\u001b[0m: name 'df' is not defined"
     ]
    }
   ],
   "source": [
    "df_tu.columns"
   ]
  },
  {
   "cell_type": "markdown",
   "id": "fa35aa1e",
   "metadata": {},
   "source": [
    "Save updated csv"
   ]
  },
  {
   "cell_type": "code",
   "execution_count": 9,
   "id": "c5a4820d",
   "metadata": {},
   "outputs": [],
   "source": [
    "df.to_csv('data/test_public.csv', index=False)"
   ]
  },
  {
   "cell_type": "code",
   "execution_count": 2,
   "id": "e34ea4cd",
   "metadata": {},
   "outputs": [],
   "source": [
    "df_tu = pd.read_csv('data/train_up.csv')\n"
   ]
  },
  {
   "cell_type": "code",
   "execution_count": 58,
   "id": "7b044255",
   "metadata": {},
   "outputs": [],
   "source": [
    "df = df_tu[df_tu['COORDS'] != '[]']"
   ]
  },
  {
   "cell_type": "code",
   "execution_count": 59,
   "id": "6220cf63",
   "metadata": {},
   "outputs": [
    {
     "name": "stdout",
     "output_type": "stream",
     "text": [
      "Index(['TRIP_ID', 'CALL_TYPE', 'ORIGIN_CALL', 'ORIGIN_STAND', 'TAXI_ID',\n",
      "       'TIMESTAMP', 'DAY_TYPE', 'POLYLINE', 'TRAVEL_TIME', 'COORDS'],\n",
      "      dtype='object')\n"
     ]
    }
   ],
   "source": [
    "print(df.columns)"
   ]
  },
  {
   "cell_type": "code",
   "execution_count": 55,
   "id": "eff5656c",
   "metadata": {},
   "outputs": [
    {
     "data": {
      "text/plain": [
       "'[]'"
      ]
     },
     "execution_count": 55,
     "metadata": {},
     "output_type": "execute_result"
    }
   ],
   "source": [
    "df_tu['COORDS'].iloc[1710657]"
   ]
  },
  {
   "cell_type": "code",
   "execution_count": 40,
   "id": "7743511d",
   "metadata": {},
   "outputs": [
    {
     "ename": "TypeError",
     "evalue": "unsupported operand type(s) for -: 'list' and 'float'",
     "output_type": "error",
     "traceback": [
      "\u001b[0;31m---------------------------------------------------------------------------\u001b[0m",
      "\u001b[0;31mTypeError\u001b[0m                                 Traceback (most recent call last)",
      "\u001b[0;32m/tmp/ipykernel_2715/699361413.py\u001b[0m in \u001b[0;36m<module>\u001b[0;34m\u001b[0m\n\u001b[1;32m      8\u001b[0m \u001b[0;34m\u001b[0m\u001b[0m\n\u001b[1;32m      9\u001b[0m     \u001b[0;32mreturn\u001b[0m \u001b[0mnormal\u001b[0m\u001b[0;34m\u001b[0m\u001b[0;34m\u001b[0m\u001b[0m\n\u001b[0;32m---> 10\u001b[0;31m \u001b[0mt\u001b[0m \u001b[0;34m=\u001b[0m \u001b[0mmap_normalize\u001b[0m\u001b[0;34m(\u001b[0m\u001b[0mdf_tu\u001b[0m\u001b[0;34m[\u001b[0m\u001b[0;34m'COORDS'\u001b[0m\u001b[0;34m]\u001b[0m\u001b[0;34m.\u001b[0m\u001b[0mmap\u001b[0m\u001b[0;34m(\u001b[0m\u001b[0mmap_json\u001b[0m\u001b[0;34m)\u001b[0m\u001b[0;34m.\u001b[0m\u001b[0mtolist\u001b[0m\u001b[0;34m(\u001b[0m\u001b[0;34m)\u001b[0m\u001b[0;34m)\u001b[0m\u001b[0;34m\u001b[0m\u001b[0;34m\u001b[0m\u001b[0m\n\u001b[0m",
      "\u001b[0;32m/tmp/ipykernel_2715/699361413.py\u001b[0m in \u001b[0;36mmap_normalize\u001b[0;34m(val)\u001b[0m\n\u001b[1;32m      5\u001b[0m     \u001b[0mnormal\u001b[0m \u001b[0;34m=\u001b[0m \u001b[0;34m[\u001b[0m\u001b[0;34m]\u001b[0m\u001b[0;34m\u001b[0m\u001b[0;34m\u001b[0m\u001b[0m\n\u001b[1;32m      6\u001b[0m     \u001b[0;32mfor\u001b[0m \u001b[0mv\u001b[0m \u001b[0;32min\u001b[0m \u001b[0mval\u001b[0m\u001b[0;34m:\u001b[0m\u001b[0;34m\u001b[0m\u001b[0;34m\u001b[0m\u001b[0m\n\u001b[0;32m----> 7\u001b[0;31m         \u001b[0mnormal\u001b[0m\u001b[0;34m.\u001b[0m\u001b[0mappend\u001b[0m\u001b[0;34m(\u001b[0m\u001b[0;34m(\u001b[0m\u001b[0mv\u001b[0m \u001b[0;34m-\u001b[0m \u001b[0;36m4502.893653516295\u001b[0m\u001b[0;34m)\u001b[0m \u001b[0;34m/\u001b[0m \u001b[0;36m215.0430544729272\u001b[0m\u001b[0;34m)\u001b[0m\u001b[0;34m\u001b[0m\u001b[0;34m\u001b[0m\u001b[0m\n\u001b[0m\u001b[1;32m      8\u001b[0m \u001b[0;34m\u001b[0m\u001b[0m\n\u001b[1;32m      9\u001b[0m     \u001b[0;32mreturn\u001b[0m \u001b[0mnormal\u001b[0m\u001b[0;34m\u001b[0m\u001b[0;34m\u001b[0m\u001b[0m\n",
      "\u001b[0;31mTypeError\u001b[0m: unsupported operand type(s) for -: 'list' and 'float'"
     ]
    }
   ],
   "source": [
    "def map_json(val):\n",
    "    return json.loads(val)\n",
    "\n",
    "def map_normalize(val):\n",
    "    normal = []\n",
    "    for v in val:\n",
    "        normal.append((v - 4502.893653516295) / 215.0430544729272)\n",
    "        \n",
    "    return normal\n",
    "t = map_normalize(df_tu['COORDS'].map(map_json).tolist())"
   ]
  },
  {
   "cell_type": "code",
   "execution_count": 21,
   "id": "e4692f1e",
   "metadata": {},
   "outputs": [
    {
     "name": "stdout",
     "output_type": "stream",
     "text": [
      "[4656.96477760585, 4656.928017844394, 4656.807500005271, 4656.848863636868, 4656.846744060687, 4656.874659513318, 4657.012906604327, 4657.020708493081, 4657.05238827631, 4657.076848902042, 4657.079803476187, 4657.116592256822, 4657.250284859582, 4657.257309756821, 4657.3222717573935, 4657.505342295106, 4657.688561545411, 4657.903187019163, 4658.032432478856, 4658.030989513225, 4658.068346158823, 4658.224459452486, 4658.370350418425, 4658.538974408166, 4658.564966222808, 4658.649340474245, 4658.765727001558, 4658.765896191977, 4658.765090187741, 4658.764284183788, 4658.763308989032, 4658.763308989032, 4658.764114992924, 4658.764582616328]\n",
      "[4656.468213451219, 4656.4616055530005, 4656.618829905977, 4656.7945874043735, 4656.888901052368, 4656.984081875508, 4656.988343925256, 4657.097616116268, 4657.330327124793, 4657.452747715531, 4657.652907635357, 4657.727042405734, 4657.730306550668, 4657.828214289824, 4657.8448798548425, 4657.861837010968, 4657.918507026974, 4657.983508772181, 4658.12027040189, 4658.116293455827, 4658.117268608388, 4658.115318303275, 4658.114512497872]\n"
     ]
    }
   ],
   "source": [
    "print(t[7])\n",
    "print(df_tu['COORDS'].iloc[0])"
   ]
  },
  {
   "cell_type": "code",
   "execution_count": 25,
   "id": "0ebd1e3a",
   "metadata": {},
   "outputs": [
    {
     "name": "stdout",
     "output_type": "stream",
     "text": [
      "Index(['TRIP_ID', 'CALL_TYPE', 'ORIGIN_CALL', 'ORIGIN_STAND', 'TAXI_ID',\n",
      "       'TIMESTAMP', 'DAY_TYPE', 'POLYLINE', 'TRAVEL_TIME'],\n",
      "      dtype='object')\n"
     ]
    }
   ],
   "source": [
    "print(df_tu.columns)"
   ]
  },
  {
   "cell_type": "code",
   "execution_count": 24,
   "id": "fc32572d",
   "metadata": {},
   "outputs": [],
   "source": [
    "df_tu = df_tu.drop(['MISSING_DATA'], axis=1)"
   ]
  },
  {
   "cell_type": "code",
   "execution_count": 15,
   "id": "4216131c",
   "metadata": {},
   "outputs": [
    {
     "data": {
      "text/plain": [
       "376"
      ]
     },
     "execution_count": 15,
     "metadata": {},
     "output_type": "execute_result"
    }
   ],
   "source": [
    "df_tu['TAXI_ID'].iloc[523423]"
   ]
  },
  {
   "cell_type": "code",
   "execution_count": 4,
   "id": "f1a91b59",
   "metadata": {},
   "outputs": [],
   "source": [
    "t_id = {}\n",
    "id_ctr = 0\n",
    "\n",
    "for i in range(len(df)):\n",
    "    taxi_id = df['TAXI_ID'].iloc[i]\n",
    "    try:\n",
    "        t_id[taxi_id]\n",
    "    except:\n",
    "        t_id[taxi_id] = id_ctr\n",
    "        id_ctr += 1"
   ]
  },
  {
   "cell_type": "code",
   "execution_count": 8,
   "id": "23dbc7bc",
   "metadata": {},
   "outputs": [
    {
     "name": "stdout",
     "output_type": "stream",
     "text": [
      "[7, 8, 9, 10, 11, 12, 1, 2, 3, 4, 5, 6]\n"
     ]
    }
   ],
   "source": [
    "print(list(t_id.keys()))"
   ]
  },
  {
   "cell_type": "code",
   "execution_count": 6,
   "id": "be287750",
   "metadata": {},
   "outputs": [],
   "source": [
    "def map_id(val):\n",
    "    return t_id[val]\n",
    "\n",
    "df['TAXI_ID'] = df['TAXI_ID'].map(map_id)"
   ]
  },
  {
   "cell_type": "code",
   "execution_count": 8,
   "id": "40aafca3",
   "metadata": {},
   "outputs": [
    {
     "data": {
      "text/plain": [
       "0"
      ]
     },
     "execution_count": 8,
     "metadata": {},
     "output_type": "execute_result"
    }
   ],
   "source": [
    "df['TAXI_ID'].min()"
   ]
  },
  {
   "cell_type": "code",
   "execution_count": 21,
   "id": "4b0cb596",
   "metadata": {},
   "outputs": [
    {
     "data": {
      "text/plain": [
       "0.0"
      ]
     },
     "execution_count": 21,
     "metadata": {},
     "output_type": "execute_result"
    }
   ],
   "source": [
    "len(df[df['TRAVEL_TIME'] <= 0]) / len(df)"
   ]
  },
  {
   "cell_type": "markdown",
   "id": "9f0cffba",
   "metadata": {},
   "source": [
    "Remove dataset examples that don't contain any gps coordinates or are empty"
   ]
  },
  {
   "cell_type": "code",
   "execution_count": 8,
   "id": "e80071ba",
   "metadata": {},
   "outputs": [
    {
     "name": "stdout",
     "output_type": "stream",
     "text": [
      "<bound method NDFrame.head of                      TRIP_ID CALL_TYPE   TAXI_ID   TIMESTAMP DAY_TYPE  \\\n",
      "0        1372636858620000589         C  20000589  1372636858        A   \n",
      "1        1372637303620000596         B  20000596  1372637303        A   \n",
      "2        1372636951620000320         C  20000320  1372636951        A   \n",
      "3        1372636854620000520         C  20000520  1372636854        A   \n",
      "4        1372637091620000337         C  20000337  1372637091        A   \n",
      "...                      ...       ...       ...         ...      ...   \n",
      "1710653  1388660427620000585         C  20000585  1388660427        A   \n",
      "1710655  1404171463620000698         C  20000698  1404171463        A   \n",
      "1710656  1404171367620000670         C  20000670  1404171367        A   \n",
      "1710658  1404141826620000248         B  20000248  1404141826        A   \n",
      "1710659  1404157147620000079         B  20000079  1404157147        A   \n",
      "\n",
      "                                                  POLYLINE  TRAVEL_TIME  \\\n",
      "0        [[-8.618643,41.141412],[-8.618499,41.141376],[...          330   \n",
      "1        [[-8.639847,41.159826],[-8.640351,41.159871],[...          270   \n",
      "2        [[-8.612964,41.140359],[-8.613378,41.14035],[-...          960   \n",
      "3        [[-8.574678,41.151951],[-8.574705,41.151942],[...          630   \n",
      "4        [[-8.645994,41.18049],[-8.645949,41.180517],[-...          420   \n",
      "...                                                    ...          ...   \n",
      "1710653  [[-8.60697,41.162283],[-8.60697,41.16231],[-8....         2895   \n",
      "1710655  [[-8.612469,41.14602],[-8.612487,41.145993],[-...          465   \n",
      "1710656  [[-8.610138,41.140845],[-8.610174,41.140935],[...          435   \n",
      "1710658  [[-8.630712,41.154885],[-8.63073,41.154813],[-...          915   \n",
      "1710659  [[-8.615538,41.140629],[-8.615421,41.140746],[...          390   \n",
      "\n",
      "                                                    COORDS  \n",
      "0        [17879.469939403385, 17879.68108078787, 17873....  \n",
      "1        [17773.44556297327, 17773.16434150739, 17771.6...  \n",
      "2        [17885.715499640366, 17885.74643414213, 17886....  \n",
      "3        [17821.552289780066, 17821.60246890982, 17821....  \n",
      "4        [17654.024323159072, 17653.86978157774, 17656....  \n",
      "...                                                    ...  \n",
      "1710653  [17760.847877180946, 17760.692731610383, 17760...  \n",
      "1710655  [17853.59027257941, 17853.743030758433, 17853....  \n",
      "1710656  [17883.097089302217, 17882.584978022813, 17878...  \n",
      "1710658  [17802.162076333003, 17802.57295952494, 17802....  \n",
      "1710659  [17884.060147141026, 17883.402515766236, 17882...  \n",
      "\n",
      "[1674152 rows x 8 columns]>\n"
     ]
    }
   ],
   "source": [
    "df = df[df['TRAVEL_TIME'] < 0]\n",
    "print(df.head)"
   ]
  },
  {
   "cell_type": "code",
   "execution_count": 17,
   "id": "338c13b5",
   "metadata": {},
   "outputs": [],
   "source": [
    "from datetime import datetime\n",
    "\n",
    "# Over every single \n",
    "def polyline_to_trip_duration(polyline):\n",
    "  return max(polyline.count(\"[\") - 2, 0) * 15\n",
    "\n",
    "# This code creates a new column, \"LEN\", in our dataframe. The value is\n",
    "# the (polyline_length - 1) * 15, where polyline_length = count(\"[\") - 1\n",
    "df_tu = df_tu.drop(['LEN'], axis=1)\n",
    "df_tu[\"TRAVEL_TIME\"] = df_tu[\"POLYLINE\"].apply(polyline_to_trip_duration)\n",
    "\n",
    "\n",
    "\n",
    "# Because we are assigning multiple values at a time, we need to \"expand\" our computed (year, month, day, hour, weekday) tuples on \n",
    "# the column axis, or axis 1\n",
    "# https://pandas.pydata.org/docs/reference/api/pandas.DataFrame.apply.html\n",
    "#df[[\"YR\", \"MON\", \"DAY\", \"HR\", \"WK\"]] = df[[\"TIMESTAMP\"]].apply(parse_time, axis=1, result_type=\"expand\")"
   ]
  },
  {
   "cell_type": "code",
   "execution_count": 4,
   "id": "8d0d0d4d",
   "metadata": {},
   "outputs": [],
   "source": [
    "def parse_time(x):\n",
    "  # We are using python's builtin datetime library\n",
    "  # https://docs.python.org/3/library/datetime.html#datetime.date.fromtimestamp\n",
    "\n",
    "  # Each x is essentially a 1 row, 1 column pandas Series\n",
    "  dt = datetime.fromtimestamp(x[\"TIMESTAMP\"])\n",
    "  return dt.year, dt.month, dt.day, dt.hour, dt.weekday()"
   ]
  },
  {
   "cell_type": "code",
   "execution_count": 10,
   "id": "949bef90",
   "metadata": {},
   "outputs": [],
   "source": [
    "mean, std = df[\"LEN\"].mean(), df[\"LEN\"].std()\n",
    "median = df[\"LEN\"].median()\n",
    "\n",
    "df_trimmed = df[df[\"LEN\"] < mean + 3 * std]"
   ]
  },
  {
   "cell_type": "code",
   "execution_count": 11,
   "id": "d2e09b28",
   "metadata": {},
   "outputs": [
    {
     "name": "stdout",
     "output_type": "stream",
     "text": [
      "1692763\n"
     ]
    }
   ],
   "source": [
    "print(len(df_trimmed))"
   ]
  },
  {
   "cell_type": "code",
   "execution_count": 14,
   "id": "2170ec76",
   "metadata": {},
   "outputs": [
    {
     "name": "stdout",
     "output_type": "stream",
     "text": [
      "Start at stand 806576\n"
     ]
    }
   ],
   "source": [
    "print('Start at stand %i' % (len(df[df['ORIGIN_STAND'].isna() == False])))"
   ]
  },
  {
   "cell_type": "code",
   "execution_count": 37,
   "id": "d5278f8c",
   "metadata": {},
   "outputs": [
    {
     "ename": "KeyError",
     "evalue": "'hi'",
     "output_type": "error",
     "traceback": [
      "\u001b[0;31m---------------------------------------------------------------------------\u001b[0m",
      "\u001b[0;31mKeyError\u001b[0m                                  Traceback (most recent call last)",
      "\u001b[0;32m/tmp/ipykernel_126/889440223.py\u001b[0m in \u001b[0;36m<module>\u001b[0;34m\u001b[0m\n\u001b[1;32m      1\u001b[0m \u001b[0mt\u001b[0m \u001b[0;34m=\u001b[0m \u001b[0;34m{\u001b[0m\u001b[0;34m}\u001b[0m\u001b[0;34m\u001b[0m\u001b[0;34m\u001b[0m\u001b[0m\n\u001b[0;32m----> 2\u001b[0;31m \u001b[0mt\u001b[0m\u001b[0;34m[\u001b[0m\u001b[0;34m'hi'\u001b[0m\u001b[0;34m]\u001b[0m\u001b[0;34m\u001b[0m\u001b[0;34m\u001b[0m\u001b[0m\n\u001b[0m",
      "\u001b[0;31mKeyError\u001b[0m: 'hi'"
     ]
    }
   ],
   "source": [
    "t = {}\n",
    "t['hi']"
   ]
  },
  {
   "cell_type": "code",
   "execution_count": 33,
   "id": "e714d8cd",
   "metadata": {},
   "outputs": [
    {
     "name": "stdout",
     "output_type": "stream",
     "text": [
      "0\n",
      "50000\n",
      "100000\n",
      "150000\n",
      "200000\n",
      "250000\n",
      "300000\n",
      "350000\n",
      "400000\n",
      "450000\n",
      "500000\n",
      "550000\n",
      "600000\n",
      "650000\n",
      "700000\n",
      "750000\n",
      "800000\n",
      "850000\n",
      "900000\n",
      "950000\n",
      "1000000\n",
      "1050000\n",
      "1100000\n",
      "1150000\n",
      "1200000\n",
      "1250000\n",
      "1300000\n",
      "1350000\n",
      "1400000\n",
      "1450000\n",
      "1500000\n",
      "1550000\n",
      "1600000\n",
      "1650000\n",
      "1700000\n"
     ]
    }
   ],
   "source": [
    "import math\n",
    "from math import radians\n",
    "\n",
    "coord_list = []\n",
    "unique = {}\n",
    "\n",
    "def get_coords(coords):\n",
    "    coords = coords.strip('][').split(', ')\n",
    "    for c in coords:\n",
    "        if (c == ''):\n",
    "            continue\n",
    "\n",
    "        c = math.floor(float(c))\n",
    "        try:\n",
    "            unique[c]\n",
    "        except Exception:\n",
    "            unique[c] = 0\n",
    "        \n",
    "        unique[c] += 1\n",
    "            \n",
    "for i in range(len(df_tu)):\n",
    "    if i % 50000 == 0:\n",
    "        print(i)\n",
    "    \n",
    "    get_coords(df_tu['COORDS'].iloc[i])"
   ]
  },
  {
   "cell_type": "code",
   "execution_count": 34,
   "id": "2c34d6fe",
   "metadata": {},
   "outputs": [],
   "source": [
    "coord_list = list(unique.keys())"
   ]
  },
  {
   "cell_type": "code",
   "execution_count": 35,
   "id": "f7e4173f",
   "metadata": {},
   "outputs": [],
   "source": [
    "rounded = [int(math.ceil(x / 250.0)) * 250 for x in coord_list]"
   ]
  },
  {
   "cell_type": "code",
   "execution_count": 38,
   "id": "1b914d9e",
   "metadata": {},
   "outputs": [
    {
     "name": "stdout",
     "output_type": "stream",
     "text": [
      "4502.893653516295\n",
      "215.0430544729272\n"
     ]
    }
   ],
   "source": [
    "import numpy as np\n",
    "c_mean = np.mean(coord_list)\n",
    "c_std = np.std(coord_list)\n",
    "print(c_mean)\n",
    "print(c_std)"
   ]
  },
  {
   "cell_type": "code",
   "execution_count": 62,
   "id": "525294f3",
   "metadata": {},
   "outputs": [],
   "source": [
    "t_df = pd.DataFrame(coord_list, columns=['COORD'])"
   ]
  },
  {
   "cell_type": "code",
   "execution_count": 72,
   "id": "078ce28c",
   "metadata": {},
   "outputs": [
    {
     "data": {
      "text/plain": [
       "0.0"
      ]
     },
     "execution_count": 72,
     "metadata": {},
     "output_type": "execute_result"
    }
   ],
   "source": [
    "len(t_df[t_df['COORD'] > c_mean * 2 + c_std]) / len(t_df)"
   ]
  },
  {
   "cell_type": "code",
   "execution_count": 73,
   "id": "7b16dd97",
   "metadata": {},
   "outputs": [
    {
     "name": "stdout",
     "output_type": "stream",
     "text": [
      "12085.850987173944\n",
      "4294.907703951505\n"
     ]
    }
   ],
   "source": [
    "print(c_mean)\n",
    "print(c_std)"
   ]
  },
  {
   "cell_type": "code",
   "execution_count": 93,
   "id": "c4047eb0",
   "metadata": {},
   "outputs": [],
   "source": [
    "def map_normalize(val):\n",
    "    normal = []\n",
    "    for v in val:\n",
    "        normal.append((v - 12085.850987173944) / 4294.907703951505)\n",
    "        \n",
    "    return normal\n",
    "\n",
    "def map_json(val):\n",
    "    return json.loads(val)\n"
   ]
  },
  {
   "cell_type": "code",
   "execution_count": 94,
   "id": "733b7422",
   "metadata": {},
   "outputs": [],
   "source": [
    "t = df['COORDS'].iloc[0]"
   ]
  },
  {
   "cell_type": "code",
   "execution_count": 95,
   "id": "06bb918f",
   "metadata": {},
   "outputs": [],
   "source": [
    "t = map_json(t)"
   ]
  },
  {
   "cell_type": "code",
   "execution_count": 96,
   "id": "24292086",
   "metadata": {},
   "outputs": [],
   "source": [
    "t = map_normalize(t)"
   ]
  },
  {
   "cell_type": "code",
   "execution_count": 97,
   "id": "87d88cda",
   "metadata": {},
   "outputs": [
    {
     "data": {
      "text/plain": [
       "[1.348950746228855,\n",
       " 1.348999907095406,\n",
       " 1.3474813699466301,\n",
       " 1.3457356967877072,\n",
       " 1.344977479960874,\n",
       " 1.3444111710904871,\n",
       " 1.3445106088944065,\n",
       " 1.343799913576223,\n",
       " 1.3415075503348777,\n",
       " 1.3397890518650934,\n",
       " 1.3369427710559652,\n",
       " 1.3358521212417755,\n",
       " 1.3358160529443908,\n",
       " 1.3345400074393805,\n",
       " 1.3343137570938368,\n",
       " 1.3341215138304083,\n",
       " 1.333883399868352,\n",
       " 1.3334123953873986,\n",
       " 1.3314733574499045,\n",
       " 1.3314528199834113,\n",
       " 1.3314408395691948,\n",
       " 1.331464800332944,\n",
       " 1.3314766828143865]"
      ]
     },
     "execution_count": 97,
     "metadata": {},
     "output_type": "execute_result"
    }
   ],
   "source": [
    "t"
   ]
  },
  {
   "cell_type": "code",
   "execution_count": 1,
   "id": "1ff3a4da",
   "metadata": {},
   "outputs": [],
   "source": [
    "import pandas as pd\n",
    "import json\n",
    "import matplotlib as plt\n",
    "import data_module as dm\n",
    "from datetime import datetime"
   ]
  },
  {
   "cell_type": "code",
   "execution_count": 2,
   "id": "7ea4165c",
   "metadata": {},
   "outputs": [],
   "source": [
    "train_dl, test_dl, train_len, test_len = dm.get_loader()"
   ]
  },
  {
   "cell_type": "code",
   "execution_count": null,
   "id": "65dcab70",
   "metadata": {},
   "outputs": [],
   "source": []
  }
 ],
 "metadata": {
  "kernelspec": {
   "display_name": "Python 3 (ipykernel)",
   "language": "python",
   "name": "python3"
  },
  "language_info": {
   "codemirror_mode": {
    "name": "ipython",
    "version": 3
   },
   "file_extension": ".py",
   "mimetype": "text/x-python",
   "name": "python",
   "nbconvert_exporter": "python",
   "pygments_lexer": "ipython3",
   "version": "3.9.5"
  }
 },
 "nbformat": 4,
 "nbformat_minor": 5
}
