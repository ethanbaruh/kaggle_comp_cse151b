{
 "cells": [
  {
   "cell_type": "code",
   "execution_count": 1,
   "id": "bc848955",
   "metadata": {},
   "outputs": [],
   "source": [
    "import torch\n",
    "from torch import nn\n",
    "from torch import optim\n",
    "import torch.nn.functional as F\n",
    "from torch.utils.data import Dataset\n",
    "from torch.utils.data import DataLoader\n",
    "\n",
    "import pandas as pd\n",
    "import json\n",
    "import time\n",
    "import math\n",
    "import random\n",
    "\n",
    "import data_module as dm\n",
    "\n",
    "from sklearn.model_selection import train_test_split\n",
    "\n",
    "device = torch.device(\"cuda\" if torch.cuda.is_available() else \"cpu\")"
   ]
  },
  {
   "cell_type": "code",
   "execution_count": 2,
   "id": "45afc77a",
   "metadata": {},
   "outputs": [],
   "source": [
    "train_dl, test_dl, train_len, test_len = dm.get_pred_fst()"
   ]
  },
  {
   "cell_type": "code",
   "execution_count": 14,
   "id": "870c1024",
   "metadata": {},
   "outputs": [],
   "source": [
    "it = iter(train_dl)\n",
    "fst = next(it)\n",
    "fst = fst[0]"
   ]
  },
  {
   "cell_type": "code",
   "execution_count": 15,
   "id": "89832cbb",
   "metadata": {},
   "outputs": [
    {
     "name": "stdout",
     "output_type": "stream",
     "text": [
      "tensor([[0, 0, 0,  ..., 0, 0, 0],\n",
      "        [0, 0, 0,  ..., 0, 0, 0],\n",
      "        [0, 0, 0,  ..., 0, 0, 0],\n",
      "        ...,\n",
      "        [0, 0, 0,  ..., 0, 0, 0],\n",
      "        [0, 0, 1,  ..., 0, 0, 0],\n",
      "        [0, 0, 0,  ..., 0, 0, 0]])\n"
     ]
    }
   ],
   "source": [
    "print(fst)"
   ]
  },
  {
   "cell_type": "code",
   "execution_count": 48,
   "id": "093de6d8",
   "metadata": {},
   "outputs": [],
   "source": [
    "class FstPred(nn.Module):\n",
    "    def __init__(self):\n",
    "        super(FstPred, self).__init__()\n",
    "        \n",
    "        self.fc1 = nn.Linear(594, 1024)\n",
    "        self.fc3 = nn.Linear(1024, 1500)\n",
    "        self.sm = nn.Softmax(1)\n",
    "        \n",
    "    def forward(self, input):\n",
    "        x = F.relu(self.fc1(input.to(torch.float)))\n",
    "        x = F.relu(self.fc3(x))\n",
    "        x = self.sm(x)\n",
    "        \n",
    "        return x"
   ]
  },
  {
   "cell_type": "code",
   "execution_count": 49,
   "id": "a47d7d47",
   "metadata": {},
   "outputs": [],
   "source": [
    "# Trainer helper functions from \n",
    "# https://pytorch.org/tutorials/intermediate/seq2seq_translation_tutorial.html#the-seq2seq-model\n",
    "def asMinutes(s):\n",
    "    m = math.floor(s / 60)\n",
    "    s -= m * 60\n",
    "    return '%dm %ds' % (m, s)\n",
    "\n",
    "\n",
    "def timeSince(since, percent):\n",
    "    now = time.time()\n",
    "    s = now - since\n",
    "    es = s / (percent)\n",
    "    rs = es - s\n",
    "    return '%s' % (asMinutes(s))"
   ]
  },
  {
   "cell_type": "code",
   "execution_count": 50,
   "id": "2d0f0131",
   "metadata": {},
   "outputs": [],
   "source": [
    "def train(model, input, target, optimizer, criterion):\n",
    "    optimizer.zero_grad()\n",
    "    \n",
    "    input = input.to(device)\n",
    "    out = model(input)\n",
    "    \n",
    "    loss = criterion(out, target.squeeze(-1).to(torch.int64))\n",
    "    \n",
    "    loss.backward()\n",
    "    optimizer.step()\n",
    "    \n",
    "    return loss\n",
    "    \n",
    "def train_epoch(model, n_epochs, print_every = 50, lr=0.003):\n",
    "    start = time.time()\n",
    "    print_loss_total = 0\n",
    "    \n",
    "    optimizer = optim.Adam(model.parameters(), lr=lr)\n",
    "    criterion = nn.CrossEntropyLoss()\n",
    "    \n",
    "    for epoch in range(n_epochs):\n",
    "        for i, data in enumerate(train_dl):\n",
    "\n",
    "            input = data[0].to(device) # back to data\n",
    "            target = data[1].to(device) # back to data\n",
    "\n",
    "            loss = train(model, input, target, optimizer, criterion)\n",
    "            print_loss_total += loss\n",
    "\n",
    "            if (i % print_every == 0) and (i != 0): # Change back to i\n",
    "                print_loss_avg = print_loss_total / print_every\n",
    "                print_loss_total = 0\n",
    "\n",
    "\n",
    "\n",
    "                print('Epoch: %d Elapsed: %s Percent of epoch Complete: (%d%%) %.4f' % (epoch, timeSince(start, i / (train_len / 128)),\n",
    "                                                                  i / (train_len / 32) * 100, print_loss_avg))\n"
   ]
  },
  {
   "cell_type": "code",
   "execution_count": null,
   "id": "cd69ab57",
   "metadata": {},
   "outputs": [
    {
     "name": "stdout",
     "output_type": "stream",
     "text": [
      "Epoch: 0 Elapsed: 0m 1s Percent of epoch Complete: (13%) 7.3137\n",
      "Epoch: 0 Elapsed: 0m 3s Percent of epoch Complete: (26%) 7.2942\n",
      "Epoch: 0 Elapsed: 0m 4s Percent of epoch Complete: (39%) 7.2950\n",
      "Epoch: 0 Elapsed: 0m 5s Percent of epoch Complete: (52%) 7.2957\n",
      "Epoch: 0 Elapsed: 0m 7s Percent of epoch Complete: (65%) 7.2955\n",
      "Epoch: 0 Elapsed: 0m 9s Percent of epoch Complete: (78%) 7.2945\n",
      "Epoch: 0 Elapsed: 0m 10s Percent of epoch Complete: (91%) 7.2944\n",
      "Epoch: 1 Elapsed: 0m 13s Percent of epoch Complete: (13%) 12.1373\n",
      "Epoch: 1 Elapsed: 0m 15s Percent of epoch Complete: (26%) 7.2951\n",
      "Epoch: 1 Elapsed: 0m 16s Percent of epoch Complete: (39%) 7.2955\n",
      "Epoch: 1 Elapsed: 0m 18s Percent of epoch Complete: (52%) 7.2925\n",
      "Epoch: 1 Elapsed: 0m 19s Percent of epoch Complete: (65%) 7.2936\n",
      "Epoch: 1 Elapsed: 0m 21s Percent of epoch Complete: (78%) 7.2946\n",
      "Epoch: 1 Elapsed: 0m 22s Percent of epoch Complete: (91%) 7.2946\n",
      "Epoch: 2 Elapsed: 0m 25s Percent of epoch Complete: (13%) 12.1354\n",
      "Epoch: 2 Elapsed: 0m 27s Percent of epoch Complete: (26%) 7.2952\n",
      "Epoch: 2 Elapsed: 0m 29s Percent of epoch Complete: (39%) 7.2932\n",
      "Epoch: 2 Elapsed: 0m 30s Percent of epoch Complete: (52%) 7.2943\n",
      "Epoch: 2 Elapsed: 0m 32s Percent of epoch Complete: (65%) 7.2920\n",
      "Epoch: 2 Elapsed: 0m 33s Percent of epoch Complete: (78%) 7.2929\n",
      "Epoch: 2 Elapsed: 0m 35s Percent of epoch Complete: (91%) 7.2955\n",
      "Epoch: 3 Elapsed: 0m 38s Percent of epoch Complete: (13%) 12.1378\n",
      "Epoch: 3 Elapsed: 0m 39s Percent of epoch Complete: (26%) 7.2923\n",
      "Epoch: 3 Elapsed: 0m 41s Percent of epoch Complete: (39%) 7.2926\n",
      "Epoch: 3 Elapsed: 0m 43s Percent of epoch Complete: (52%) 7.2958\n",
      "Epoch: 3 Elapsed: 0m 44s Percent of epoch Complete: (65%) 7.2943\n",
      "Epoch: 3 Elapsed: 0m 46s Percent of epoch Complete: (78%) 7.2943\n",
      "Epoch: 3 Elapsed: 0m 47s Percent of epoch Complete: (91%) 7.2957\n"
     ]
    }
   ],
   "source": [
    "model = FstPred().to(device)\n",
    "\n",
    "train_epoch(model, 5, 500)"
   ]
  },
  {
   "cell_type": "code",
   "execution_count": null,
   "id": "d2ff4284",
   "metadata": {},
   "outputs": [],
   "source": []
  },
  {
   "cell_type": "code",
   "execution_count": null,
   "id": "093f0710",
   "metadata": {},
   "outputs": [],
   "source": []
  }
 ],
 "metadata": {
  "kernelspec": {
   "display_name": "Python 3 (ipykernel)",
   "language": "python",
   "name": "python3"
  },
  "language_info": {
   "codemirror_mode": {
    "name": "ipython",
    "version": 3
   },
   "file_extension": ".py",
   "mimetype": "text/x-python",
   "name": "python",
   "nbconvert_exporter": "python",
   "pygments_lexer": "ipython3",
   "version": "3.9.5"
  }
 },
 "nbformat": 4,
 "nbformat_minor": 5
}
