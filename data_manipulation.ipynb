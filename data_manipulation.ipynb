{
 "cells": [
  {
   "cell_type": "code",
   "execution_count": 1,
   "id": "05555efe",
   "metadata": {},
   "outputs": [],
   "source": [
    "import numpy as np\n",
    "from math import radians\n",
    "import pandas as pd\n",
    "import json"
   ]
  },
  {
   "cell_type": "code",
   "execution_count": 2,
   "id": "43ef5a59",
   "metadata": {},
   "outputs": [],
   "source": [
    "df = pd.read_csv('data/train_up.csv')"
   ]
  },
  {
   "cell_type": "code",
   "execution_count": 3,
   "id": "ebb28575",
   "metadata": {},
   "outputs": [
    {
     "name": "stdout",
     "output_type": "stream",
     "text": [
      "Index(['TRIP_ID', 'CALL_TYPE', 'ORIGIN_CALL', 'ORIGIN_STAND', 'TAXI_ID',\n",
      "       'TIMESTAMP', 'DAY_TYPE', 'POLYLINE', 'TRAVEL_TIME', 'COORDS'],\n",
      "      dtype='object')\n"
     ]
    }
   ],
   "source": [
    "print(df.columns)"
   ]
  },
  {
   "cell_type": "markdown",
   "id": "069c907b",
   "metadata": {},
   "source": [
    "Use harversine transformation in order to get a mapping from latitude and longitude to a single value. If the model doesn't do well this could be one thing to change."
   ]
  },
  {
   "cell_type": "code",
   "execution_count": 3,
   "id": "7ba465f0",
   "metadata": {},
   "outputs": [],
   "source": [
    "def harversine(lst):\n",
    "    lst = json.loads(lst)\n",
    "    ret_list = []\n",
    "    for l in lst:\n",
    "\n",
    "        lat = l[0]\n",
    "        lon = l[1]\n",
    "        \n",
    "        r = 6371\n",
    "\n",
    "        lat, lng = map(radians, [lat, lon])\n",
    "\n",
    "        a = np.sin(lat/2)**2 + np.cos(lat) * np.sin(lng/2)**2\n",
    "        d = 2 * r * np.arcsin(np.sqrt(a)) \n",
    "        d = (d - 4502.893653516295) / 215.0430544729272\n",
    "        ret_list.append(d)\n",
    "\n",
    "    return ret_list"
   ]
  },
  {
   "cell_type": "code",
   "execution_count": 4,
   "id": "db4c0cbe",
   "metadata": {},
   "outputs": [],
   "source": [
    "hs = df['POLYLINE'].map(harversine)"
   ]
  },
  {
   "cell_type": "code",
   "execution_count": 5,
   "id": "ecb9a673",
   "metadata": {},
   "outputs": [
    {
     "data": {
      "text/plain": [
       "<bound method NDFrame.head of 0          [0.7141572663731769, 0.7141265381162968, 0.714...\n",
       "1          [0.7252905574378705, 0.7253573674703114, 0.725...\n",
       "2          [0.7131303567904174, 0.7131619928699152, 0.713...\n",
       "3          [0.7156351251213084, 0.7156329368343567, 0.715...\n",
       "4          [0.7362399131115734, 0.736249575634305, 0.7360...\n",
       "                                 ...                        \n",
       "1704754    [0.7236548708382464, 0.7236684769263034, 0.723...\n",
       "1704755    [0.7159397062626665, 0.715927673075046, 0.7159...\n",
       "1704756    [0.7131283936652926, 0.7131768896615555, 0.713...\n",
       "1704757    [0.722001439515219, 0.7219667369654753, 0.7219...\n",
       "1704758    [0.7134913252835373, 0.7135400559303, 0.713589...\n",
       "Name: POLYLINE, Length: 1704759, dtype: object>"
      ]
     },
     "execution_count": 5,
     "metadata": {},
     "output_type": "execute_result"
    }
   ],
   "source": [
    "hs.head"
   ]
  },
  {
   "cell_type": "code",
   "execution_count": 6,
   "id": "05d32b55",
   "metadata": {},
   "outputs": [],
   "source": [
    "df['COORDS'] = hs"
   ]
  },
  {
   "cell_type": "code",
   "execution_count": 7,
   "id": "0de0a10a",
   "metadata": {},
   "outputs": [
    {
     "data": {
      "text/plain": [
       "<bound method NDFrame.head of                      TRIP_ID CALL_TYPE  ORIGIN_CALL  ORIGIN_STAND  TAXI_ID  \\\n",
       "0        1372636858620000589         C          NaN           NaN        0   \n",
       "1        1372637303620000596         B          NaN           7.0        1   \n",
       "2        1372636951620000320         C          NaN           NaN        2   \n",
       "3        1372636854620000520         C          NaN           NaN        3   \n",
       "4        1372637091620000337         C          NaN           NaN        4   \n",
       "...                      ...       ...          ...           ...      ...   \n",
       "1704754  1388660427620000585         C          NaN           NaN      437   \n",
       "1704755  1404171463620000698         C          NaN           NaN      440   \n",
       "1704756  1404171367620000670         C          NaN           NaN      441   \n",
       "1704757  1404141826620000248         B          NaN          12.0      443   \n",
       "1704758  1404157147620000079         B          NaN          34.0      444   \n",
       "\n",
       "          TIMESTAMP DAY_TYPE  \\\n",
       "0        1372636858        A   \n",
       "1        1372637303        A   \n",
       "2        1372636951        A   \n",
       "3        1372636854        A   \n",
       "4        1372637091        A   \n",
       "...             ...      ...   \n",
       "1704754  1388660427        A   \n",
       "1704755  1404171463        A   \n",
       "1704756  1404171367        A   \n",
       "1704757  1404141826        A   \n",
       "1704758  1404157147        A   \n",
       "\n",
       "                                                  POLYLINE  TRAVEL_TIME  \\\n",
       "0        [[-8.618643,41.141412],[-8.618499,41.141376],[...          330   \n",
       "1        [[-8.639847,41.159826],[-8.640351,41.159871],[...          270   \n",
       "2        [[-8.612964,41.140359],[-8.613378,41.14035],[-...          960   \n",
       "3        [[-8.574678,41.151951],[-8.574705,41.151942],[...          630   \n",
       "4        [[-8.645994,41.18049],[-8.645949,41.180517],[-...          420   \n",
       "...                                                    ...          ...   \n",
       "1704754  [[-8.60697,41.162283],[-8.60697,41.16231],[-8....         2895   \n",
       "1704755  [[-8.612469,41.14602],[-8.612487,41.145993],[-...          465   \n",
       "1704756  [[-8.610138,41.140845],[-8.610174,41.140935],[...          435   \n",
       "1704757  [[-8.630712,41.154885],[-8.63073,41.154813],[-...          915   \n",
       "1704758  [[-8.615538,41.140629],[-8.615421,41.140746],[...          390   \n",
       "\n",
       "                                                    COORDS  \n",
       "0        [0.7141572663731769, 0.7141265381162968, 0.714...  \n",
       "1        [0.7252905574378705, 0.7253573674703114, 0.725...  \n",
       "2        [0.7131303567904174, 0.7131619928699152, 0.713...  \n",
       "3        [0.7156351251213084, 0.7156329368343567, 0.715...  \n",
       "4        [0.7362399131115734, 0.736249575634305, 0.7360...  \n",
       "...                                                    ...  \n",
       "1704754  [0.7236548708382464, 0.7236684769263034, 0.723...  \n",
       "1704755  [0.7159397062626665, 0.715927673075046, 0.7159...  \n",
       "1704756  [0.7131283936652926, 0.7131768896615555, 0.713...  \n",
       "1704757  [0.722001439515219, 0.7219667369654753, 0.7219...  \n",
       "1704758  [0.7134913252835373, 0.7135400559303, 0.713589...  \n",
       "\n",
       "[1704759 rows x 10 columns]>"
      ]
     },
     "execution_count": 7,
     "metadata": {},
     "output_type": "execute_result"
    }
   ],
   "source": [
    "df.head"
   ]
  },
  {
   "cell_type": "code",
   "execution_count": 8,
   "id": "21c05333",
   "metadata": {},
   "outputs": [],
   "source": [
    "df.to_csv('data/train_up.csv', index=False)"
   ]
  },
  {
   "cell_type": "code",
   "execution_count": null,
   "id": "51e0e71d",
   "metadata": {},
   "outputs": [],
   "source": []
  }
 ],
 "metadata": {
  "kernelspec": {
   "display_name": "Python 3 (ipykernel)",
   "language": "python",
   "name": "python3"
  },
  "language_info": {
   "codemirror_mode": {
    "name": "ipython",
    "version": 3
   },
   "file_extension": ".py",
   "mimetype": "text/x-python",
   "name": "python",
   "nbconvert_exporter": "python",
   "pygments_lexer": "ipython3",
   "version": "3.9.5"
  }
 },
 "nbformat": 4,
 "nbformat_minor": 5
}
